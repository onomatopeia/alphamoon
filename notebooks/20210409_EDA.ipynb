{
 "cells": [
  {
   "cell_type": "code",
   "execution_count": 1,
   "id": "b13ed0cb",
   "metadata": {},
   "outputs": [],
   "source": [
    "import pickle"
   ]
  },
  {
   "cell_type": "code",
   "execution_count": 2,
   "id": "9b891188",
   "metadata": {},
   "outputs": [],
   "source": [
    "from pathlib import Path"
   ]
  },
  {
   "cell_type": "code",
   "execution_count": 3,
   "id": "316d4a96",
   "metadata": {},
   "outputs": [],
   "source": [
    "import os\n",
    "current = Path('.').resolve()\n",
    "if current.name == 'notebooks':\n",
    "    os.chdir('..')"
   ]
  },
  {
   "cell_type": "code",
   "execution_count": 4,
   "id": "0889c814",
   "metadata": {},
   "outputs": [],
   "source": [
    "%load_ext autoreload\n",
    "%autoreload 2"
   ]
  },
  {
   "cell_type": "code",
   "execution_count": 5,
   "id": "c9ce87a9",
   "metadata": {},
   "outputs": [],
   "source": [
    "import alphamoon"
   ]
  },
  {
   "cell_type": "code",
   "execution_count": 6,
   "id": "a8752878",
   "metadata": {},
   "outputs": [],
   "source": [
    "import alphamoon.constants"
   ]
  },
  {
   "cell_type": "code",
   "execution_count": 7,
   "id": "5c438598",
   "metadata": {},
   "outputs": [],
   "source": [
    "import numpy as np"
   ]
  },
  {
   "cell_type": "code",
   "execution_count": 8,
   "id": "688e039f",
   "metadata": {},
   "outputs": [],
   "source": [
    "import matplotlib.pyplot as plt"
   ]
  },
  {
   "cell_type": "code",
   "execution_count": 36,
   "id": "4149680d",
   "metadata": {},
   "outputs": [],
   "source": [
    "input_data_path = alphamoon.constants.RAW_DATA_DIR / 'train.pkl'\n",
    "with input_data_path.open('rb') as file_handle:\n",
    "    X, y = pickle.load(file_handle)"
   ]
  },
  {
   "cell_type": "code",
   "execution_count": 37,
   "id": "fefd7a32",
   "metadata": {},
   "outputs": [
    {
     "data": {
      "text/plain": [
       "(30134, 3136)"
      ]
     },
     "execution_count": 37,
     "metadata": {},
     "output_type": "execute_result"
    }
   ],
   "source": [
    "X.shape"
   ]
  },
  {
   "cell_type": "code",
   "execution_count": 38,
   "id": "c0f401bf",
   "metadata": {},
   "outputs": [
    {
     "data": {
      "text/plain": [
       "(30134, 1)"
      ]
     },
     "execution_count": 38,
     "metadata": {},
     "output_type": "execute_result"
    }
   ],
   "source": [
    "y.shape"
   ]
  },
  {
   "cell_type": "code",
   "execution_count": 39,
   "id": "87166ca7",
   "metadata": {},
   "outputs": [],
   "source": [
    "count_arr = np.bincount(y[:,0])"
   ]
  },
  {
   "cell_type": "code",
   "execution_count": 13,
   "id": "27703e1a",
   "metadata": {},
   "outputs": [
    {
     "data": {
      "image/png": "[encoded data removed]",
      "text/plain": [
       "<Figure size 432x288 with 1 Axes>"
      ]
     },
     "metadata": {
      "needs_background": "light"
     },
     "output_type": "display_data"
    }
   ],
   "source": [
    "plt.bar(np.arange(len(count_arr)), count_arr)\n",
    "plt.xlabel('Class index')\n",
    "plt.ylabel('Number of data points in a class')\n",
    "plt.savefig(alphamoon.constants.REPORTS_FIGURES_DIR / 'data_points_per_class.png', bbox_inches='tight', dpi=300)\n",
    "plt.show()"
   ]
  },
  {
   "cell_type": "code",
   "execution_count": 22,
   "id": "3f507689",
   "metadata": {},
   "outputs": [
    {
     "data": {
      "image/png": "[encoded data removed]",
      "text/plain": [
       "<Figure size 432x288 with 1 Axes>"
      ]
     },
     "metadata": {
      "needs_background": "light"
     },
     "output_type": "display_data"
    }
   ],
   "source": [
    "plt.bar(np.arange(len(count_arr)), count_arr)\n",
    "plt.xlabel('Class index')\n",
    "plt.ylabel('Number of data points in a class')\n",
    "plt.yscale('log')\n",
    "output_file = alphamoon.constants.REPORTS_FIGURES_DIR / 'data_points_per_class_logscale.png'\n",
    "plt.savefig(output_file, bbox_inches='tight', dpi=300)\n",
    "plt.show()"
   ]
  },
  {
   "cell_type": "markdown",
   "id": "9e774e78",
   "metadata": {},
   "source": [
    "Data set is unbalanced"
   ]
  },
  {
   "cell_type": "markdown",
   "id": "6bfa8bb3",
   "metadata": {},
   "source": [
    "# One-shot learning example"
   ]
  },
  {
   "cell_type": "code",
   "execution_count": 21,
   "id": "a3ec2e0d",
   "metadata": {},
   "outputs": [],
   "source": [
    "num_classes = len(count_arr)"
   ]
  },
  {
   "cell_type": "code",
   "execution_count": 41,
   "id": "dbeb8cf7",
   "metadata": {},
   "outputs": [],
   "source": [
    "one_shot_example = np.where(y[:, 0] == 30)[0][0]"
   ]
  },
  {
   "cell_type": "code",
   "execution_count": 42,
   "id": "932ae04c",
   "metadata": {},
   "outputs": [],
   "source": [
    "img_w_h = int(np.sqrt(X.shape[1]))"
   ]
  },
  {
   "cell_type": "code",
   "execution_count": 43,
   "id": "c881c08d",
   "metadata": {},
   "outputs": [
    {
     "data": {
      "image/png": "[encoded data removed]",
      "text/plain": [
       "<Figure size 432x288 with 1 Axes>"
      ]
     },
     "metadata": {
      "needs_background": "light"
     },
     "output_type": "display_data"
    }
   ],
   "source": [
    "plt.imshow(np.reshape(X[one_shot_example], \n",
    "                      (img_w_h, img_w_h)), cmap='binary')\n",
    "output_file = alphamoon.constants.REPORTS_FIGURES_DIR / 'one_shot_example.png'\n",
    "plt.savefig(output_file, bbox_inches='tight', dpi=300)\n",
    "plt.show()"
   ]
  },
  {
   "cell_type": "markdown",
   "id": "17065ef2",
   "metadata": {},
   "source": [
    "# Idea: Siamese network"
   ]
  },
  {
   "cell_type": "markdown",
   "id": "611fa4bd",
   "metadata": {},
   "source": [
    "## Train and Test sets"
   ]
  },
  {
   "cell_type": "markdown",
   "id": "6f987ae4",
   "metadata": {},
   "source": [
    "There are 30314 examples altogether. Let's take 2:1 train to test.\n",
    "\n",
    "Problem: The least populated class in y has only 1 member, which is too few. The minimum number of groups for any class cannot be less than 2.\n",
    "\n",
    "Solution: Data augmentation?"
   ]
  },
  {
   "cell_type": "code",
   "execution_count": 79,
   "id": "25f74438",
   "metadata": {},
   "outputs": [],
   "source": [
    "import torch"
   ]
  },
  {
   "cell_type": "code",
   "execution_count": 135,
   "id": "8b9908e1",
   "metadata": {},
   "outputs": [],
   "source": [
    "from torchvision import datasets\n",
    "import torchvision.transforms as transforms\n",
    "from PIL import Image\n",
    "\n",
    "transform_train = transforms.RandomAffine((4, 4), (0.1, 0.1))"
   ]
  },
  {
   "cell_type": "code",
   "execution_count": 77,
   "id": "843d7adc",
   "metadata": {},
   "outputs": [],
   "source": [
    "X_prim = X.reshape((X.shape[0], img_w_h, img_w_h, 1))"
   ]
  },
  {
   "cell_type": "code",
   "execution_count": 80,
   "id": "03ea5709",
   "metadata": {},
   "outputs": [],
   "source": [
    "X_prim_tensor = torch.Tensor(X_prim)"
   ]
  },
  {
   "cell_type": "code",
   "execution_count": 164,
   "id": "38a598fd",
   "metadata": {},
   "outputs": [],
   "source": [
    "x_train_aug = X_prim_tensor[one_shot_example,...]"
   ]
  },
  {
   "cell_type": "code",
   "execution_count": 167,
   "id": "7b85a49d",
   "metadata": {},
   "outputs": [],
   "source": [
    "x_train_aug = x_train_aug[None]"
   ]
  },
  {
   "cell_type": "code",
   "execution_count": 259,
   "id": "ff4b6dbe",
   "metadata": {},
   "outputs": [
    {
     "data": {
      "image/png": "[encoded data removed]",
      "text/plain": [
       "<Figure size 432x288 with 1 Axes>"
      ]
     },
     "metadata": {
      "needs_background": "light"
     },
     "output_type": "display_data"
    }
   ],
   "source": [
    "transform_train = transforms.RandomAffine(0, (0.1, 0.1), (0.9, 1.1))\n",
    "x = transform_train.forward(x_train_aug)\n",
    "plt.imshow(x[0,...], cmap='binary');"
   ]
  },
  {
   "cell_type": "code",
   "execution_count": 261,
   "id": "7bfa6bb8",
   "metadata": {},
   "outputs": [
    {
     "data": {
      "image/png": "[encoded data removed]",
      "text/plain": [
       "<Figure size 432x288 with 1 Axes>"
      ]
     },
     "metadata": {
      "needs_background": "light"
     },
     "output_type": "display_data"
    }
   ],
   "source": [
    "plt.imshow(transforms.RandomRotation(10).forward(x_train_aug)[0, ...], cmap='Greys');"
   ]
  },
  {
   "cell_type": "markdown",
   "id": "3065a925",
   "metadata": {},
   "source": [
    "### Something is really weird with these PyTorch transformations, trying regular affine transformations"
   ]
  },
  {
   "cell_type": "code",
   "execution_count": 253,
   "id": "8c00340c",
   "metadata": {},
   "outputs": [],
   "source": [
    "theta = np.deg2rad(-7)\n",
    "ry = rx = img_w_h/2\n",
    "\n",
    "\n",
    "r00 = np.cos(theta)\n",
    "r01 = -np.sin(theta)\n",
    "r10 = np.sin(theta)\n",
    "r11 = np.cos(theta)\n",
    "r02 = rx - r00*rx - r01*ry\n",
    "r12 = ry - r10*rx - r11*ry"
   ]
  },
  {
   "cell_type": "code",
   "execution_count": 250,
   "id": "dfc2a50b",
   "metadata": {},
   "outputs": [],
   "source": [
    "from scipy.ndimage import affine_transform"
   ]
  },
  {
   "cell_type": "code",
   "execution_count": 254,
   "id": "a0cd6cd1",
   "metadata": {},
   "outputs": [],
   "source": [
    "rotation = np.array([[r00, r01, r02], [r10, r11, r12], [0, 0, 1]])"
   ]
  },
  {
   "cell_type": "code",
   "execution_count": 256,
   "id": "bd30b2fc",
   "metadata": {},
   "outputs": [
    {
     "data": {
      "image/png": "[encoded data removed]",
      "text/plain": [
       "<Figure size 432x288 with 1 Axes>"
      ]
     },
     "metadata": {
      "needs_background": "light"
     },
     "output_type": "display_data"
    }
   ],
   "source": [
    "Sx = 0.9\n",
    "Sy = 1.1\n",
    "Tx = -5\n",
    "Ty = 2\n",
    "\n",
    "affine2 = np.array([[Sy, 0, Tx], [0, Sx, Ty], [0, 0, 1]])\n",
    "trans = np.matmul(rotation,  affine2)\n",
    "x2 = affine_transform(X_prim[one_shot_example,..., 0],  trans)\n",
    "plt.imshow(x2, cmap='binary');"
   ]
  },
  {
   "cell_type": "code",
   "execution_count": 257,
   "id": "5afb40cc",
   "metadata": {},
   "outputs": [],
   "source": [
    "x2_ravel = np.ravel(x2)"
   ]
  },
  {
   "cell_type": "code",
   "execution_count": 258,
   "id": "9b81ad17",
   "metadata": {},
   "outputs": [
    {
     "data": {
      "text/plain": [
       "array([0, 0, 0, ..., 0, 0, 0], dtype=uint8)"
      ]
     },
     "execution_count": 258,
     "metadata": {},
     "output_type": "execute_result"
    }
   ],
   "source": [
    "x2_ravel"
   ]
  },
  {
   "cell_type": "code",
   "execution_count": 262,
   "id": "17a3d2d4",
   "metadata": {},
   "outputs": [],
   "source": [
    "X_augmented = np.vstack((X, x2_ravel))"
   ]
  },
  {
   "cell_type": "code",
   "execution_count": 263,
   "id": "d98f2371",
   "metadata": {},
   "outputs": [],
   "source": [
    "y_augmented = np.vstack((y, [30]))"
   ]
  },
  {
   "cell_type": "markdown",
   "id": "52a435a0",
   "metadata": {},
   "source": [
    "```\n",
    "# Creating Augmented Dataset\n",
    "X_train_augmented = [image for image in X_train]\n",
    "y_train_augmented = [image for image in y_train]\n",
    "\n",
    "for dx, dy in ((1,0), (-1,0), (0,1), (0,-1)):\n",
    "     for image, label in zip(X_train, y_train):\n",
    "             X_train_augmented.append(shift_image(image, dx, dy))\n",
    "             y_train_augmented.append(label)\n",
    "\n",
    "\n",
    "# Shuffle the dataset\n",
    "shuffle_idx = np.random.permutation(len(X_train_augmented))\n",
    "X_train_augmented = np.array(X_train_augmented)[shuffle_idx]\n",
    "y_train_augmented = np.array(y_train_augmented)[shuffle_idx]\n",
    "```"
   ]
  },
  {
   "cell_type": "markdown",
   "id": "b8b6148f",
   "metadata": {},
   "source": [
    "## Train - Test split"
   ]
  },
  {
   "cell_type": "code",
   "execution_count": 264,
   "id": "8d125ac6",
   "metadata": {},
   "outputs": [],
   "source": [
    "from sklearn.model_selection import StratifiedShuffleSplit"
   ]
  },
  {
   "cell_type": "code",
   "execution_count": 265,
   "id": "9bb2a72f",
   "metadata": {},
   "outputs": [],
   "source": [
    "ss = StratifiedShuffleSplit(n_splits=1, test_size=0.33, random_state=0)"
   ]
  },
  {
   "cell_type": "code",
   "execution_count": 268,
   "id": "d4b27565",
   "metadata": {},
   "outputs": [],
   "source": [
    "for train_index, test_index in ss.split(X_augmented, y_augmented):\n",
    "    X_train, X_test = X_augmented[train_index], X_augmented[test_index]\n",
    "    y_train, y_test = y_augmented[train_index], y_augmented[test_index]"
   ]
  },
  {
   "cell_type": "code",
   "execution_count": 269,
   "id": "88c08170",
   "metadata": {},
   "outputs": [
    {
     "data": {
      "text/plain": [
       "(20190, 3136)"
      ]
     },
     "execution_count": 269,
     "metadata": {},
     "output_type": "execute_result"
    }
   ],
   "source": [
    "X_train.shape"
   ]
  },
  {
   "cell_type": "code",
   "execution_count": 270,
   "id": "ec25f23b",
   "metadata": {},
   "outputs": [
    {
     "data": {
      "text/plain": [
       "(9945, 3136)"
      ]
     },
     "execution_count": 270,
     "metadata": {},
     "output_type": "execute_result"
    }
   ],
   "source": [
    "X_test.shape"
   ]
  },
  {
   "cell_type": "markdown",
   "id": "bd242feb",
   "metadata": {},
   "source": [
    "## Examples generation"
   ]
  },
  {
   "cell_type": "code",
   "execution_count": 300,
   "id": "cae38ee4",
   "metadata": {},
   "outputs": [],
   "source": [
    "def generate_triplet(X_train, y_train, batch_size):\n",
    "    import random\n",
    "    \n",
    "    img_side_len = X_train.shape[1]\n",
    "    x_anchors = np.zeros((batch_size, img_side_len))\n",
    "    x_positives = np.zeros((batch_size, img_side_len))\n",
    "    x_negatives = np.zeros((batch_size, img_side_len))\n",
    "    \n",
    "    for i in range(batch_size):\n",
    "        idx = random.randint(0, X_train.shape[0] - 1)\n",
    "        x_anchors[i] = X_train[idx]\n",
    "        y = y_train[idx, 0]\n",
    "        \n",
    "        indices_for_pos = np.where(y_train == y)[0]\n",
    "        indices_for_neg = np.where(y_train != y)[0]\n",
    "        \n",
    "        idx_pos = random.choice(indices_for_pos)\n",
    "        idx_neg = random.choice(indices_for_neg)\n",
    "        \n",
    "        x_positives[i] = X_train[idx_pos]\n",
    "        x_negatives[i] = X_train[idx_neg]\n",
    "    return [x_anchors, x_positives, x_negatives]"
   ]
  },
  {
   "cell_type": "code",
   "execution_count": 302,
   "id": "d77bcd33",
   "metadata": {},
   "outputs": [],
   "source": [
    "[anchor, positive, negative] = generate_triplet(X_train, y_train, 1)"
   ]
  },
  {
   "cell_type": "code",
   "execution_count": 318,
   "id": "0fedeba0",
   "metadata": {},
   "outputs": [
    {
     "data": {
      "image/png": "[encoded data removed]",
      "text/plain": [
       "<Figure size 576x288 with 3 Axes>"
      ]
     },
     "metadata": {},
     "output_type": "display_data"
    }
   ],
   "source": [
    "fig, (ax1, ax2, ax3) = plt.subplots(ncols=3, sharey=True, figsize=(8,4))\n",
    "ax1.imshow(np.reshape(anchor, (img_w_h, img_w_h)), cmap='binary')\n",
    "ax2.imshow(np.reshape(positive, (img_w_h, img_w_h)), cmap='binary')\n",
    "ax3.imshow(np.reshape(negative, (img_w_h, img_w_h)), cmap='binary')\n",
    "plt.suptitle('Sample triplet')\n",
    "ax1.set_title('Anchor')\n",
    "ax2.set_title('Positive example')\n",
    "ax3.set_title('Negative_example')\n",
    "tick_params = dict(left=False,\n",
    "                bottom=False,\n",
    "                labelleft=False,\n",
    "                labelbottom=False)\n",
    "ax1.tick_params(**tick_params)\n",
    "ax2.tick_params(**tick_params)\n",
    "ax3.tick_params(**tick_params)\n",
    "plt.subplots_adjust(top=1)\n",
    "output_file = alphamoon.constants.REPORTS_FIGURES_DIR / 'sample_triplet.png'\n",
    "plt.savefig(output_file, bbox_inches='tight', dpi=300)\n",
    "plt.show()"
   ]
  },
  {
   "cell_type": "markdown",
   "id": "c09d0bd4",
   "metadata": {},
   "source": [
    "A 2D example\n",
    "```\n",
    "def generate_examples(X_train, y_train):\n",
    "    import random \n",
    "    \n",
    "    x_positives = np.zeros(X_train.shape)\n",
    "    x_negatives = np.zeros(X_train.shape)\n",
    "    \n",
    "    for idx in range(X_train.shape[0]):\n",
    "        y = y_train[idx, 0]\n",
    "        \n",
    "        indices_for_pos = np.where(y_train == y)[0]\n",
    "        indices_for_neg = np.where(y_train != y)[0]\n",
    "        \n",
    "        idx_pos = random.choice(indices_for_pos)\n",
    "        idx_neg = random.choice(indices_for_neg)\n",
    "        \n",
    "        x_positives[idx] = X_train[idx_pos]\n",
    "        x_negatives[idx] = X_train[idx_neg]\n",
    "    return x_positives, x_negatives\n",
    "```"
   ]
  },
  {
   "cell_type": "markdown",
   "id": "9672975b",
   "metadata": {},
   "source": [
    "## Verification network\n",
    "\n",
    "[Siamese Neural Networks or One-shot Image Recognition](https://www.cs.cmu.edu/~rsalakhu/papers/oneshot1.pdf)"
   ]
  },
  {
   "cell_type": "markdown",
   "id": "9f660c1a",
   "metadata": {},
   "source": [
    "![network](model.jpg)"
   ]
  },
  {
   "cell_type": "code",
   "execution_count": 293,
   "id": "e89db506",
   "metadata": {},
   "outputs": [],
   "source": [
    "import torch.nn as nn\n",
    "\n",
    "class KochNet(nn.Module):\n",
    "    def __init__(self):\n",
    "        super(Net, self).__init__()\n",
    "        \n",
    "        # Conv2d(input_channels, output_channels, kernel_size)\n",
    "        self.conv1 = nn.Conv2d(1, 64, 9) \n",
    "        self.conv2 = nn.Conv2d(64, 128, 7)  \n",
    "        self.conv3 = nn.Conv2d(128, 256, 4)\n",
    "        self.bn1 = nn.BatchNorm2d(64)\n",
    "        self.bn2 = nn.BatchNorm2d(128)\n",
    "        self.bn3 = nn.BatchNorm2d(256)\n",
    "        self.dropout1 = nn.Dropout(0.1)\n",
    "        self.dropout2 = nn.Dropout(0.5)\n",
    "        self.fc1 = nn.Linear(256 * 6 * 6, 4096)\n",
    "        self.fcOut = nn.Linear(4096, 1)\n",
    "        self.sigmoid = nn.Sigmoid()\n",
    "    \n",
    "    def convs(self, x):\n",
    "        # out_dim = in_dim - kernel_size + 1  \n",
    "        #1, 56, 56\n",
    "        x = F.relu(self.bn1(self.conv1(x)))\n",
    "        # 64, 48, 48\n",
    "        x = F.max_pool2d(x, (2,2))\n",
    "        # 64, 24, 24\n",
    "        x = F.relu(self.bn2(self.conv2(x)))\n",
    "        # 128, 18, 18\n",
    "        x = F.max_pool2d(x, (2,2))\n",
    "        # 128, 9, 9\n",
    "        x = F.relu(self.bn3(self.conv3(x)))\n",
    "        # 256, 6, 6\n",
    "        return x\n",
    "\n",
    "    def forward(self, x1, x2):\n",
    "        x1 = self.convs(x1)\n",
    "        x1 = x1.view(-1, 256 * 6 * 6)\n",
    "        x1 = self.sigmoid(self.fc1(x1))\n",
    "        x2 = self.convs(x2)\n",
    "        x2 = x2.view(-1, 256 * 6 * 6)\n",
    "        x2 = self.sigmoid(self.fc1(x2))\n",
    "        x = torch.abs(x1 - x2)\n",
    "        x = self.fcOut(x)\n",
    "        return x"
   ]
  },
  {
   "cell_type": "code",
   "execution_count": 325,
   "id": "74f538f0",
   "metadata": {},
   "outputs": [],
   "source": [
    "class EmbeddingNet(nn.Module):\n",
    "    def __init__(self, input_size, hidden_size, output_size):\n",
    "        super().__init__()\n",
    "        self.fc1 = nn.Linear(input_size, hidden_size)\n",
    "        self.relu = nn.ReLU()\n",
    "        self.fc2 = nn.Linear(hidden_size, output_size)\n",
    "\n",
    "    def forward(self,x):\n",
    "        out = self.fc1(x)\n",
    "        out = self.relu(out)\n",
    "        out = self.fc2(out)\n",
    "        return out"
   ]
  },
  {
   "cell_type": "code",
   "execution_count": null,
   "id": "badeaf65",
   "metadata": {},
   "outputs": [],
   "source": [
    "triplet_loss = nn.TripletMarginWithDistanceLoss(\n",
    "    distance_function=nn.PairwiseDistance(), margin=1)\n",
    "# output = triplet_loss(anchor, positive, negative)\n",
    "# output.backward()"
   ]
  },
  {
   "cell_type": "code",
   "execution_count": 295,
   "id": "78ec3690",
   "metadata": {},
   "outputs": [],
   "source": [
    "# Initialize embeddings\n",
    "batchsize = 200\n",
    "embedding = nn.Embedding(batchsize, 128)\n",
    "anchor_ids = torch.randint(0, batchsize, (1,))\n",
    "positive_ids = torch.randint(0, batchsize, (1,))\n",
    "negative_ids = torch.randint(0, batchsize, (1,))\n",
    "anchor = embedding(anchor_ids)\n",
    "positive = embedding(positive_ids)\n",
    "negative = embedding(negative_ids)\n",
    "# Built-in Distance Function\n",
    "triplet_loss = \\\n",
    "     nn.TripletMarginWithDistanceLoss(distance_function=nn.PairwiseDistance())\n",
    "output = triplet_loss(anchor, positive, negative)\n",
    "output.backward()"
   ]
  },
  {
   "cell_type": "code",
   "execution_count": 299,
   "id": "5f95ee5d",
   "metadata": {},
   "outputs": [
    {
     "data": {
      "text/plain": [
       "torch.Size([1, 128])"
      ]
     },
     "execution_count": 299,
     "metadata": {},
     "output_type": "execute_result"
    }
   ],
   "source": [
    "anchor.shape"
   ]
  },
  {
   "cell_type": "code",
   "execution_count": 327,
   "id": "8e4204b6",
   "metadata": {},
   "outputs": [],
   "source": [
    "embedding_model = EmbeddingNet(X_train.shape[1], 64, 64)"
   ]
  },
  {
   "cell_type": "code",
   "execution_count": 320,
   "id": "0099938d",
   "metadata": {},
   "outputs": [],
   "source": [
    "n_epochs = 1"
   ]
  },
  {
   "cell_type": "code",
   "execution_count": 328,
   "id": "cebda698",
   "metadata": {},
   "outputs": [],
   "source": [
    "margin=1"
   ]
  },
  {
   "cell_type": "code",
   "execution_count": 335,
   "id": "cb34b3dc",
   "metadata": {},
   "outputs": [],
   "source": [
    "from torch.utils.data import Dataset"
   ]
  },
  {
   "cell_type": "code",
   "execution_count": null,
   "id": "e1de604f",
   "metadata": {},
   "outputs": [],
   "source": [
    "class TripletDataset(Dataset):\n",
    "    pass"
   ]
  },
  {
   "cell_type": "code",
   "execution_count": 330,
   "id": "acb0cfd9",
   "metadata": {},
   "outputs": [],
   "source": [
    "\n",
    "class TripletNet(nn.Module):\n",
    "    def __init__(self, embedding_net):\n",
    "        super().__init__()\n",
    "        self.embedding_net = embedding_net\n",
    "\n",
    "    def forward(self, x1, x2, x3):\n",
    "        output1 = self.embedding_net(x1)\n",
    "        output2 = self.embedding_net(x2)\n",
    "        output3 = self.embedding_net(x3)\n",
    "        return output1, output2, output3\n",
    "\n",
    "    def get_embedding(self, x):\n",
    "        return self.embedding_net(x)"
   ]
  },
  {
   "cell_type": "code",
   "execution_count": 333,
   "id": "42d7f1f9",
   "metadata": {},
   "outputs": [],
   "source": [
    "model = TripletNet(embedding_model)\n",
    "use_cuda = torch.cuda.is_available()\n",
    "if use_cuda:\n",
    "    model.cuda()\n",
    "loss_fn = nn.TripletMarginWithDistanceLoss(\n",
    "    distance_function=nn.PairwiseDistance(), margin=margin)\n",
    "optimizer = torch.optim.Adam(model.parameters())"
   ]
  },
  {
   "cell_type": "code",
   "execution_count": 334,
   "id": "e953baa5",
   "metadata": {},
   "outputs": [],
   "source": [
    "from alphamoon.models.train_model import train"
   ]
  },
  {
   "cell_type": "code",
   "execution_count": null,
   "id": "176d531c",
   "metadata": {},
   "outputs": [],
   "source": [
    "loaders = {}\n",
    "loaders['train'] = None\n",
    "loaders['valid'] = None"
   ]
  },
  {
   "cell_type": "code",
   "execution_count": null,
   "id": "270a325e",
   "metadata": {},
   "outputs": [],
   "source": [
    "train(n_epochs, loaders, model, optimizer, loss_fn, use_cuda, \n",
    "      alphamoon.constants.MODELS_DIR)"
   ]
  }
 ],
 "metadata": {
  "kernelspec": {
   "display_name": "Python 3",
   "language": "python",
   "name": "python3"
  },
  "language_info": {
   "codemirror_mode": {
    "name": "ipython",
    "version": 3
   },
   "file_extension": ".py",
   "mimetype": "text/x-python",
   "name": "python",
   "nbconvert_exporter": "python",
   "pygments_lexer": "ipython3",
   "version": "3.7.3"
  }
 },
 "nbformat": 4,
 "nbformat_minor": 5
}
