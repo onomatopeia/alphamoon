{
 "cells": [
  {
   "cell_type": "code",
   "execution_count": 1,
   "id": "b13ed0cb",
   "metadata": {},
   "outputs": [],
   "source": [
    "import pickle"
   ]
  },
  {
   "cell_type": "code",
   "execution_count": 2,
   "id": "9b891188",
   "metadata": {},
   "outputs": [],
   "source": [
    "from pathlib import Path"
   ]
  },
  {
   "cell_type": "code",
   "execution_count": 3,
   "id": "316d4a96",
   "metadata": {},
   "outputs": [],
   "source": [
    "import os\n",
    "current = Path('.').resolve()\n",
    "if current.name == 'notebooks':\n",
    "    os.chdir('..')"
   ]
  },
  {
   "cell_type": "code",
   "execution_count": 4,
   "id": "0889c814",
   "metadata": {},
   "outputs": [],
   "source": [
    "%load_ext autoreload\n",
    "%autoreload 2"
   ]
  },
  {
   "cell_type": "code",
   "execution_count": 5,
   "id": "c9ce87a9",
   "metadata": {},
   "outputs": [],
   "source": [
    "import alphamoon"
   ]
  },
  {
   "cell_type": "code",
   "execution_count": 6,
   "id": "a8752878",
   "metadata": {},
   "outputs": [],
   "source": [
    "import alphamoon.constants"
   ]
  },
  {
   "cell_type": "code",
   "execution_count": 7,
   "id": "5c438598",
   "metadata": {},
   "outputs": [],
   "source": [
    "import numpy as np"
   ]
  },
  {
   "cell_type": "code",
   "execution_count": 8,
   "id": "688e039f",
   "metadata": {},
   "outputs": [],
   "source": [
    "import matplotlib.pyplot as plt"
   ]
  },
  {
   "cell_type": "code",
   "execution_count": 9,
   "id": "4149680d",
   "metadata": {},
   "outputs": [],
   "source": [
    "input_data_path = alphamoon.constants.RAW_DATA_DIR / 'train.pkl'\n",
    "with input_data_path.open('rb') as file_handle:\n",
    "    X_train, y_train = pickle.load(file_handle)"
   ]
  },
  {
   "cell_type": "code",
   "execution_count": 10,
   "id": "fefd7a32",
   "metadata": {},
   "outputs": [
    {
     "data": {
      "text/plain": [
       "(30134, 3136)"
      ]
     },
     "execution_count": 10,
     "metadata": {},
     "output_type": "execute_result"
    }
   ],
   "source": [
    "X_train.shape"
   ]
  },
  {
   "cell_type": "code",
   "execution_count": 11,
   "id": "c0f401bf",
   "metadata": {},
   "outputs": [
    {
     "data": {
      "text/plain": [
       "(30134, 1)"
      ]
     },
     "execution_count": 11,
     "metadata": {},
     "output_type": "execute_result"
    }
   ],
   "source": [
    "y_train.shape"
   ]
  },
  {
   "cell_type": "code",
   "execution_count": 12,
   "id": "87166ca7",
   "metadata": {},
   "outputs": [],
   "source": [
    "count_arr = np.bincount(y_train[:,0])"
   ]
  },
  {
   "cell_type": "code",
   "execution_count": 15,
   "id": "27703e1a",
   "metadata": {},
   "outputs": [
    {
     "data": {
      "image/png": "[encoded data removed]",
      "text/plain": [
       "<Figure size 432x288 with 1 Axes>"
      ]
     },
     "metadata": {
      "needs_background": "light"
     },
     "output_type": "display_data"
    }
   ],
   "source": [
    "plt.bar(np.arange(len(count_arr)), count_arr)\n",
    "plt.xlabel('Class index')\n",
    "plt.ylabel('Number of data points in a class')\n",
    "plt.savefig(alphamoon.constants.REPORTS_FIGURES_DIR / 'data_points_per_class.png', bbox_inches='tight', dpi=300)\n",
    "plt.show()"
   ]
  },
  {
   "cell_type": "markdown",
   "id": "9e774e78",
   "metadata": {},
   "source": [
    "Data set is unbalanced"
   ]
  },
  {
   "cell_type": "code",
   "execution_count": null,
   "id": "a29b6965",
   "metadata": {},
   "outputs": [],
   "source": []
  }
 ],
 "metadata": {
  "kernelspec": {
   "display_name": "Python 3",
   "language": "python",
   "name": "python3"
  },
  "language_info": {
   "codemirror_mode": {
    "name": "ipython",
    "version": 3
   },
   "file_extension": ".py",
   "mimetype": "text/x-python",
   "name": "python",
   "nbconvert_exporter": "python",
   "pygments_lexer": "ipython3",
   "version": "3.7.3"
  }
 },
 "nbformat": 4,
 "nbformat_minor": 5
}
